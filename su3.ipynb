{
 "cells": [
  {
   "cell_type": "code",
   "id": "initial_id",
   "metadata": {
    "collapsed": true,
    "ExecuteTime": {
     "end_time": "2024-08-23T21:21:47.849090Z",
     "start_time": "2024-08-23T21:21:47.832675Z"
    }
   },
   "source": [
    "from sage.all import *\n",
    "from sage.symbolic.operators import add_vararg, mul_vararg"
   ],
   "outputs": [],
   "execution_count": 1
  },
  {
   "metadata": {},
   "cell_type": "markdown",
   "source": "$\\overline{\\cdot}$ denoted the involution.",
   "id": "46a5ea94073a5d28"
  },
  {
   "metadata": {
    "ExecuteTime": {
     "end_time": "2024-08-23T21:21:47.888218Z",
     "start_time": "2024-08-23T21:21:47.856280Z"
    }
   },
   "cell_type": "code",
   "source": "bar = sage.symbolic.function_factory.function('bar', nargs=1, print_latex_func=lambda _, arg: '\\\\overline{{{}}}'.format(latex(arg)))",
   "id": "87ac05e8fef3e135",
   "outputs": [],
   "execution_count": 2
  },
  {
   "metadata": {
    "ExecuteTime": {
     "end_time": "2024-08-23T21:21:48.385959Z",
     "start_time": "2024-08-23T21:21:48.379363Z"
    }
   },
   "cell_type": "code",
   "source": [
    "lmbd = var('lmbd', latex_name='\\\\lambda')\n",
    "mu = var('mu', latex_name='\\\\mu')\n",
    "a, b = var('a b')\n",
    "y, d = var('y d')\n",
    "eps = var('eps', latex_name='\\\\varepsilon')\n",
    "variables = [lmbd, a, b, y, d, eps, mu]"
   ],
   "id": "9457d739752b4462",
   "outputs": [],
   "execution_count": 3
  },
  {
   "metadata": {},
   "cell_type": "markdown",
   "source": "The utility functions defined below allow to manipulate the expressions involving $\\tau$, reduction of expressions mod 2 and mapping those over matrices.",
   "id": "fdb595fd009e1760"
  },
  {
   "metadata": {
    "ExecuteTime": {
     "end_time": "2024-08-23T21:21:48.462515Z",
     "start_time": "2024-08-23T21:21:48.430580Z"
    }
   },
   "cell_type": "code",
   "source": [
    "# taken with changes from https://wiki.sagemath.org/symbolics/rewrite\n",
    "\n",
    "def mapexpression(expr, fct, level, addDepth=0, mulDepth=0):\n",
    "     def mapex(expr, depth):               # a very local function\n",
    "        if expr.is_integer():\n",
    "            return expr\n",
    "        opor = expr.operator()\n",
    "        opands = expr.operands()\n",
    "        if (opor is None):\n",
    "            return expr       # a leaf in the expression tree\n",
    "        if (opor == operator.add):           # recursive call thru sum\n",
    "            opands = map(lambda ex: mapex(ex, depth + addDepth), opands)\n",
    "            return sum(opands)\n",
    "        if (opor == operator.mul):           # recursive call thru mul\n",
    "            opands = map(lambda ex: mapex(ex, depth + mulDepth), opands)\n",
    "            return prod(opands)\n",
    "        if (level == -1) or (level[-1] >= depth):  # recursive call over operands\n",
    "            opands = map(lambda ex: mapex(ex, depth + 1), opands)\n",
    "        if level == -1 or depth in level:  # root of the subtree must be changed\n",
    "            return fct(opor, opands)\n",
    "        return opor(*opands)  # opands may or may not be changed by a recursive call\n",
    "     return mapex(expr, 0)\n",
    "\n",
    "\n",
    "# a way to circumvent a conflict between built-in `pow` functions\n",
    "sagepow = (1/x).operator()\n",
    "    \n",
    "\n",
    "def bar_involution_rules(opor, opands):\n",
    "    \"\"\"\n",
    "    bar(a ± b) => bar(a) ± bar(b)\n",
    "    bar(a * b^n) => bar(a) * bar(b)^n\n",
    "    bar(p/q) => p/q\n",
    "    bar(lambda) = -lambda\n",
    "    bar(mu) = 1 - mu\n",
    "    \"\"\"\n",
    "    opands = list(opands)\n",
    "    if opor == bar:\n",
    "        opand = opands[0]\n",
    "        opand_opor = opand.operator()\n",
    "        if opand_opor is not None:\n",
    "            opand_opands = opand.operands()\n",
    "            if opand_opor == add_vararg or opand_opor == mul_vararg:\n",
    "                return opand_opor(*[bar(o) for o in opand_opands])\n",
    "            elif opand_opor == sagepow:\n",
    "                return pow(bar(opand_opands[0]), opand_opands[1])\n",
    "            elif opand_opor == bar:\n",
    "                return opand_opands[0]\n",
    "        if opand.is_numeric():\n",
    "            return opand\n",
    "        if opand == lmbd:\n",
    "            return -lmbd\n",
    "        if opand == mu:\n",
    "            return 1 - mu\n",
    "    return opor(*opands)\n",
    "\n",
    "\n",
    "def rewrite(expr):\n",
    "    stable = false\n",
    "    while not stable:\n",
    "        new_expr = mapexpression(expr, bar_involution_rules, -1)\n",
    "        stable = (new_expr == expr)\n",
    "        expr = new_expr\n",
    "    return expr\n",
    "\n",
    "\n",
    "def map_rewrite(m):\n",
    "    return m.apply_map(rewrite)\n",
    "\n",
    "\n",
    "def map_simplify_rational(m):\n",
    "    return m.apply_map(lambda e: e.simplify_rational(algorithm='simple'))\n",
    "\n",
    "\n",
    "def reduce_mod2(expr):\n",
    "    tempvars = list(var(['bar_{}'.format(v) for v in variables]))\n",
    "    numer_denom = []\n",
    "    for e in expr.numerator_denominator():\n",
    "        e = e.subs({bar(v): bar_v for v, bar_v in zip(variables, tempvars)})\n",
    "        Rmod2 = PolynomialRing(GF(2), variables + tempvars)\n",
    "        e = Rmod2(e)\n",
    "        e = e.change_ring(ZZ)\n",
    "        e = e.subs(**{str(bar_v): bar(v) for bar_v, v in zip(tempvars, variables)})\n",
    "        numer_denom.append(e)\n",
    "    return numer_denom[0] / numer_denom[1]\n",
    "\n",
    "\n",
    "def map_reduce_mod2(m):\n",
    "    return m.apply_map(lambda e: reduce_mod2(e))"
   ],
   "id": "87107c8cb47c3629",
   "outputs": [],
   "execution_count": 4
  },
  {
   "metadata": {
    "ExecuteTime": {
     "end_time": "2024-08-23T21:21:48.514700Z",
     "start_time": "2024-08-23T21:21:48.505333Z"
    }
   },
   "cell_type": "code",
   "source": [
    "j = matrix([[0, 0, 1], [0, 1, 0], [1, 0, 0]])\n",
    "\n",
    "\n",
    "def is_in_su3(g, char2=False):\n",
    "    rel = map_simplify_rational(map_rewrite(g.T * j * g.apply_map(bar)))\n",
    "    if char2:\n",
    "        rel = map_reduce_mod2(rel)\n",
    "    return rewrite(expand(g.det())) == 1 and rel == j"
   ],
   "id": "79762a2d6605b65f",
   "outputs": [],
   "execution_count": 5
  },
  {
   "metadata": {
    "ExecuteTime": {
     "end_time": "2024-08-23T21:21:50.182592Z",
     "start_time": "2024-08-23T21:21:48.566859Z"
    }
   },
   "cell_type": "code",
   "source": [
    "w = matrix([[0, 0, 1],[0, -1, 0], [1, 0, 0]])\n",
    "\n",
    "\n",
    "def xp(a, b):\n",
    "    mat = matrix([\n",
    "        [1, a, b],\n",
    "        [0, 1, -bar(a)],\n",
    "        [0, 0, 1]\n",
    "    ])\n",
    "    return mat\n",
    "\n",
    "\n",
    "def xm(a, b):\n",
    "    return w * xp(a, b) * w\n",
    "\n",
    "\n",
    "def h(eps):\n",
    "    return diagonal_matrix([eps, bar(eps)/eps, 1/bar(eps)])\n",
    "\n",
    "\n",
    "show(xp(a, b), xm(a, b), h(lmbd))"
   ],
   "id": "3736ab4d4caa66d3",
   "outputs": [
    {
     "data": {
      "text/html": [
       "<html>\\(\\displaystyle \\left(\\begin{array}{rrr}\n",
       "1 & a & b \\\\\n",
       "0 & 1 & -\\overline{a} \\\\\n",
       "0 & 0 & 1\n",
       "\\end{array}\\right) \\left(\\begin{array}{rrr}\n",
       "1 & 0 & 0 \\\\\n",
       "\\overline{a} & 1 & 0 \\\\\n",
       "b & -a & 1\n",
       "\\end{array}\\right) \\left(\\begin{array}{rrr}\n",
       "{\\lambda} & 0 & 0 \\\\\n",
       "0 & \\frac{\\overline{{\\lambda}}}{{\\lambda}} & 0 \\\\\n",
       "0 & 0 & \\frac{1}{\\overline{{\\lambda}}}\n",
       "\\end{array}\\right)\\)</html>"
      ],
      "text/plain": [
       "[      1       a       b]\n",
       "[      0       1 -bar(a)]\n",
       "[      0       0       1] [     1      0      0]\n",
       "[bar(a)      1      0]\n",
       "[     b     -a      1] [          lmbd              0              0]\n",
       "[             0 bar(lmbd)/lmbd              0]\n",
       "[             0              0    1/bar(lmbd)]"
      ],
      "text/latex": "$\\displaystyle \\left(\\begin{array}{rrr}\n1 & a & b \\\\\n0 & 1 & -\\overline{a} \\\\\n0 & 0 & 1\n\\end{array}\\right) \\left(\\begin{array}{rrr}\n1 & 0 & 0 \\\\\n\\overline{a} & 1 & 0 \\\\\nb & -a & 1\n\\end{array}\\right) \\left(\\begin{array}{rrr}\n{\\lambda} & 0 & 0 \\\\\n0 & \\frac{\\overline{{\\lambda}}}{{\\lambda}} & 0 \\\\\n0 & 0 & \\frac{1}{\\overline{{\\lambda}}}\n\\end{array}\\right)$"
     },
     "metadata": {},
     "output_type": "display_data"
    }
   ],
   "execution_count": 6
  },
  {
   "metadata": {},
   "cell_type": "markdown",
   "source": "Checking that $x_+(a,b)$ lives in $S\\cdot{}^g S$ for some $g$, separately in case $\\operatorname{char}(F)\\neq 2$ and $=2$.",
   "id": "5b87c6cc3fcb1b9b"
  },
  {
   "metadata": {
    "ExecuteTime": {
     "end_time": "2024-08-23T21:21:50.985634Z",
     "start_time": "2024-08-23T21:21:50.294741Z"
    }
   },
   "cell_type": "code",
   "source": [
    "g = xp(a, b)\n",
    "s1 = h(2) * xp(0, -a*bar(a)/4-b/2)\n",
    "s2 = h(1/2)\n",
    "\n",
    "s1gs2ginv = s1 * g * s2 * g^(-1)\n",
    "show(s1gs2ginv, map_rewrite(s1gs2ginv))"
   ],
   "id": "a678c0e8807cbab8",
   "outputs": [
    {
     "data": {
      "text/html": [
       "<html>\\(\\displaystyle \\left(\\begin{array}{rrr}\n",
       "1 & 4 \\, a \\overline{\\frac{1}{2}} - a & 4 \\, a \\overline{\\frac{1}{2}} \\overline{a} - a \\overline{a} - b - \\frac{a \\overline{a} - 2 \\, b}{2 \\, \\overline{\\frac{1}{2}}} \\\\\n",
       "0 & \\overline{2} \\overline{\\frac{1}{2}} & \\overline{2} \\overline{\\frac{1}{2}} \\overline{a} - \\frac{\\overline{2} \\overline{0} + \\overline{2} \\overline{a}}{2 \\, \\overline{\\frac{1}{2}}} \\\\\n",
       "0 & 0 & \\frac{1}{\\overline{2} \\overline{\\frac{1}{2}}}\n",
       "\\end{array}\\right) \\left(\\begin{array}{rrr}\n",
       "1 & a & b \\\\\n",
       "0 & 1 & -\\overline{a} \\\\\n",
       "0 & 0 & 1\n",
       "\\end{array}\\right)\\)</html>"
      ],
      "text/plain": [
       "[                                                                    1                                                      4*a*bar(1/2) - a    4*a*bar(1/2)*bar(a) - a*bar(a) - b - 1/2*(a*bar(a) - 2*b)/bar(1/2)]\n",
       "[                                                                    0                                                       bar(2)*bar(1/2) bar(2)*bar(1/2)*bar(a) - 1/2*(bar(2)*bar(0) + bar(2)*bar(a))/bar(1/2)]\n",
       "[                                                                    0                                                                     0                                                   1/(bar(2)*bar(1/2))] [      1       a       b]\n",
       "[      0       1 -bar(a)]\n",
       "[      0       0       1]"
      ],
      "text/latex": "$\\displaystyle \\left(\\begin{array}{rrr}\n1 & 4 \\, a \\overline{\\frac{1}{2}} - a & 4 \\, a \\overline{\\frac{1}{2}} \\overline{a} - a \\overline{a} - b - \\frac{a \\overline{a} - 2 \\, b}{2 \\, \\overline{\\frac{1}{2}}} \\\\\n0 & \\overline{2} \\overline{\\frac{1}{2}} & \\overline{2} \\overline{\\frac{1}{2}} \\overline{a} - \\frac{\\overline{2} \\overline{0} + \\overline{2} \\overline{a}}{2 \\, \\overline{\\frac{1}{2}}} \\\\\n0 & 0 & \\frac{1}{\\overline{2} \\overline{\\frac{1}{2}}}\n\\end{array}\\right) \\left(\\begin{array}{rrr}\n1 & a & b \\\\\n0 & 1 & -\\overline{a} \\\\\n0 & 0 & 1\n\\end{array}\\right)$"
     },
     "metadata": {},
     "output_type": "display_data"
    }
   ],
   "execution_count": 7
  },
  {
   "metadata": {
    "ExecuteTime": {
     "end_time": "2024-08-23T21:21:58.637866Z",
     "start_time": "2024-08-23T21:21:51.000104Z"
    }
   },
   "cell_type": "code",
   "source": [
    "g = xp(a * lmbd, d)\n",
    "# s1 = matrix([[1 + 1/lmbd, 0, y], [0, 1, 0], [0, 0, lmbd/(1 + lmbd)]])\n",
    "s1 = h((lmbd+1)/lmbd) * xp(0, y)\n",
    "s2 = h(lmbd/(1 + lmbd))\n",
    "\n",
    "values = {\n",
    "    y: (d + b * lmbd**2 + a * bar(a) * lmbd**3) / (lmbd**2 + 1)\n",
    "}\n",
    "\n",
    "s1gs2ginv = map_reduce_mod2(map_simplify_rational(map_rewrite(s1 * g * s2 * g^(-1))))\n",
    "\n",
    "s1gs2ginv_eval = map_reduce_mod2(map_simplify_rational(map_rewrite(s1gs2ginv.subs(values))))\n",
    "\n",
    "show(s1gs2ginv, s1gs2ginv_eval)"
   ],
   "id": "8b61986359856d9a",
   "outputs": [
    {
     "data": {
      "text/html": [
       "<html>\\(\\displaystyle \\left(\\begin{array}{rrr}\n",
       "1 & a & \\frac{a {\\lambda}^{4} \\overline{a} + a {\\lambda}^{3} \\overline{a} + {\\lambda}^{3} y + {\\lambda}^{2} y + d {\\lambda} + {\\lambda} y + d + y}{{\\lambda}^{3} + {\\lambda}^{2}} \\\\\n",
       "0 & 1 & \\frac{{\\lambda} \\overline{a} + \\overline{a}}{{\\lambda} + 1} \\\\\n",
       "0 & 0 & 1\n",
       "\\end{array}\\right) \\left(\\begin{array}{rrr}\n",
       "1 & a & b \\\\\n",
       "0 & 1 & \\overline{a} \\\\\n",
       "0 & 0 & 1\n",
       "\\end{array}\\right)\\)</html>"
      ],
      "text/plain": [
       "[                                                                                                    1                                                                                                     a (a*lmbd^4*bar(a) + a*lmbd^3*bar(a) + lmbd^3*y + lmbd^2*y + d*lmbd + lmbd*y + d + y)/(lmbd^3 + lmbd^2)]\n",
       "[                                                                                                    0                                                                                                     1                                                                     (lmbd*bar(a) + bar(a))/(lmbd + 1)]\n",
       "[                                                                                                    0                                                                                                     0                                                                                                     1] [     1      a      b]\n",
       "[     0      1 bar(a)]\n",
       "[     0      0      1]"
      ],
      "text/latex": "$\\displaystyle \\left(\\begin{array}{rrr}\n1 & a & \\frac{a {\\lambda}^{4} \\overline{a} + a {\\lambda}^{3} \\overline{a} + {\\lambda}^{3} y + {\\lambda}^{2} y + d {\\lambda} + {\\lambda} y + d + y}{{\\lambda}^{3} + {\\lambda}^{2}} \\\\\n0 & 1 & \\frac{{\\lambda} \\overline{a} + \\overline{a}}{{\\lambda} + 1} \\\\\n0 & 0 & 1\n\\end{array}\\right) \\left(\\begin{array}{rrr}\n1 & a & b \\\\\n0 & 1 & \\overline{a} \\\\\n0 & 0 & 1\n\\end{array}\\right)$"
     },
     "metadata": {},
     "output_type": "display_data"
    }
   ],
   "execution_count": 8
  },
  {
   "metadata": {},
   "cell_type": "markdown",
   "source": "It remains to check that $s_1\\in\\operatorname{SU}_3$, namely, to check that $\\overline{y}+y=0$.",
   "id": "ff30151c83ad01d1"
  },
  {
   "metadata": {
    "ExecuteTime": {
     "end_time": "2024-08-23T21:22:00.519714Z",
     "start_time": "2024-08-23T21:21:58.750558Z"
    }
   },
   "cell_type": "code",
   "source": [
    "y_obstacle = rewrite((values[y]+bar(values[y]))).simplify_rational()\n",
    "show(y_obstacle)\n",
    "y_obstacle = y_obstacle.subs({\n",
    "    b+bar(b): a*bar(a),\n",
    "    bar(d): (lmbd*a)*bar(lmbd*a) - d\n",
    "})\n",
    "show(rewrite(y_obstacle))"
   ],
   "id": "d4e27dbe0047294f",
   "outputs": [
    {
     "data": {
      "text/html": [
       "<html>\\(\\displaystyle \\frac{{\\left(b + \\overline{b}\\right)} {\\lambda}^{2} + d + \\overline{d}}{{\\lambda}^{2} + 1}\\)</html>"
      ],
      "text/plain": [
       "((b + bar(b))*lmbd^2 + d + bar(d))/(lmbd^2 + 1)"
      ],
      "text/latex": "$\\displaystyle \\frac{{\\left(b + \\overline{b}\\right)} {\\lambda}^{2} + d + \\overline{d}}{{\\lambda}^{2} + 1}$"
     },
     "metadata": {},
     "output_type": "display_data"
    },
    {
     "data": {
      "text/html": [
       "<html>\\(\\displaystyle 0\\)</html>"
      ],
      "text/plain": [
       "0"
      ],
      "text/latex": "$\\displaystyle 0$"
     },
     "metadata": {},
     "output_type": "display_data"
    }
   ],
   "execution_count": 9
  },
  {
   "metadata": {},
   "cell_type": "markdown",
   "source": "Checking that $H < S\\cdot{}^g S$ for some $g$. Again, separately for $\\operatorname{char}(F) \\neq 2$ and $=2$.",
   "id": "26aa9d814b593225"
  },
  {
   "metadata": {
    "ExecuteTime": {
     "end_time": "2024-08-23T21:22:00.566699Z",
     "start_time": "2024-08-23T21:22:00.561268Z"
    }
   },
   "cell_type": "code",
   "source": "eta = bar(eps) / eps",
   "id": "3e5c0b5a4ef7630b",
   "outputs": [],
   "execution_count": 10
  },
  {
   "metadata": {
    "ExecuteTime": {
     "end_time": "2024-08-23T21:22:18.612317Z",
     "start_time": "2024-08-23T21:22:00.618651Z"
    }
   },
   "cell_type": "code",
   "source": [
    "g = map_rewrite(xp(-1, -1/2) * w * xp(1, -1/2))\n",
    "s1 = matrix([[(eps+bar(eps))/2, 0, (eps-bar(eps))/4], [0, 1, 0], [1/bar(eps)-1/eps, 0, (1/eps+1/bar(eps))/2]])\n",
    "\n",
    "s2 = matrix([[(eta+bar(eta))/2, 0, (eta-bar(eta))/4], [0, 1, 0], [eta-bar(eta), 0, (eta+bar(eta))/2]])\n",
    "s2 = map_rewrite(s2)\n",
    "\n",
    "print(is_in_su3(s1), is_in_su3(s2))\n",
    "\n",
    "show(g, s1, s2)\n",
    "\n",
    "s1gs2ginv = map_simplify_rational(map_rewrite(s1 * g * s2 * g^(-1)))\n",
    "\n",
    "show(s1gs2ginv)"
   ],
   "id": "5be2a4a8a740fdb6",
   "outputs": [
    {
     "name": "stdout",
     "output_type": "stream",
     "text": [
      "True True\n"
     ]
    },
    {
     "data": {
      "text/html": [
       "<html>\\(\\displaystyle \\left(\\begin{array}{rrr}\n",
       "-\\frac{1}{2} & \\frac{1}{2} & \\frac{1}{4} \\\\\n",
       "1 & 0 & \\frac{1}{2} \\\\\n",
       "1 & 1 & -\\frac{1}{2}\n",
       "\\end{array}\\right) \\left(\\begin{array}{rrr}\n",
       "\\frac{1}{2} \\, {\\varepsilon} + \\frac{1}{2} \\, \\overline{{\\varepsilon}} & 0 & \\frac{1}{4} \\, {\\varepsilon} - \\frac{1}{4} \\, \\overline{{\\varepsilon}} \\\\\n",
       "0 & 1 & 0 \\\\\n",
       "-\\frac{1}{{\\varepsilon}} + \\frac{1}{\\overline{{\\varepsilon}}} & 0 & \\frac{1}{2 \\, {\\varepsilon}} + \\frac{1}{2 \\, \\overline{{\\varepsilon}}}\n",
       "\\end{array}\\right) \\left(\\begin{array}{rrr}\n",
       "\\frac{{\\varepsilon}}{2 \\, \\overline{{\\varepsilon}}} + \\frac{\\overline{{\\varepsilon}}}{2 \\, {\\varepsilon}} & 0 & -\\frac{{\\varepsilon}}{4 \\, \\overline{{\\varepsilon}}} + \\frac{\\overline{{\\varepsilon}}}{4 \\, {\\varepsilon}} \\\\\n",
       "0 & 1 & 0 \\\\\n",
       "-\\frac{{\\varepsilon}}{\\overline{{\\varepsilon}}} + \\frac{\\overline{{\\varepsilon}}}{{\\varepsilon}} & 0 & \\frac{{\\varepsilon}}{2 \\, \\overline{{\\varepsilon}}} + \\frac{\\overline{{\\varepsilon}}}{2 \\, {\\varepsilon}}\n",
       "\\end{array}\\right)\\)</html>"
      ],
      "text/plain": [
       "[-1/2  1/2  1/4]\n",
       "[   1    0  1/2]\n",
       "[   1    1 -1/2] [1/2*eps + 1/2*bar(eps)                      0 1/4*eps - 1/4*bar(eps)]\n",
       "[                     0                      1                      0]\n",
       "[   -1/eps + 1/bar(eps)                      0 1/2/eps + 1/2/bar(eps)] [ 1/2*eps/bar(eps) + 1/2*bar(eps)/eps                                    0 -1/4*eps/bar(eps) + 1/4*bar(eps)/eps]\n",
       "[                                   0                                    1                                    0]\n",
       "[        -eps/bar(eps) + bar(eps)/eps                                    0  1/2*eps/bar(eps) + 1/2*bar(eps)/eps]"
      ],
      "text/latex": "$\\displaystyle \\left(\\begin{array}{rrr}\n-\\frac{1}{2} & \\frac{1}{2} & \\frac{1}{4} \\\\\n1 & 0 & \\frac{1}{2} \\\\\n1 & 1 & -\\frac{1}{2}\n\\end{array}\\right) \\left(\\begin{array}{rrr}\n\\frac{1}{2} \\, {\\varepsilon} + \\frac{1}{2} \\, \\overline{{\\varepsilon}} & 0 & \\frac{1}{4} \\, {\\varepsilon} - \\frac{1}{4} \\, \\overline{{\\varepsilon}} \\\\\n0 & 1 & 0 \\\\\n-\\frac{1}{{\\varepsilon}} + \\frac{1}{\\overline{{\\varepsilon}}} & 0 & \\frac{1}{2 \\, {\\varepsilon}} + \\frac{1}{2 \\, \\overline{{\\varepsilon}}}\n\\end{array}\\right) \\left(\\begin{array}{rrr}\n\\frac{{\\varepsilon}}{2 \\, \\overline{{\\varepsilon}}} + \\frac{\\overline{{\\varepsilon}}}{2 \\, {\\varepsilon}} & 0 & -\\frac{{\\varepsilon}}{4 \\, \\overline{{\\varepsilon}}} + \\frac{\\overline{{\\varepsilon}}}{4 \\, {\\varepsilon}} \\\\\n0 & 1 & 0 \\\\\n-\\frac{{\\varepsilon}}{\\overline{{\\varepsilon}}} + \\frac{\\overline{{\\varepsilon}}}{{\\varepsilon}} & 0 & \\frac{{\\varepsilon}}{2 \\, \\overline{{\\varepsilon}}} + \\frac{\\overline{{\\varepsilon}}}{2 \\, {\\varepsilon}}\n\\end{array}\\right)$"
     },
     "metadata": {},
     "output_type": "display_data"
    },
    {
     "data": {
      "text/html": [
       "<html>\\(\\displaystyle \\left(\\begin{array}{rrr}\n",
       "{\\varepsilon} & 0 & 0 \\\\\n",
       "0 & \\frac{\\overline{{\\varepsilon}}}{{\\varepsilon}} & 0 \\\\\n",
       "0 & 0 & \\frac{1}{\\overline{{\\varepsilon}}}\n",
       "\\end{array}\\right)\\)</html>"
      ],
      "text/plain": [
       "[         eps            0            0]\n",
       "[           0 bar(eps)/eps            0]\n",
       "[           0            0   1/bar(eps)]"
      ],
      "text/latex": "$\\displaystyle \\left(\\begin{array}{rrr}\n{\\varepsilon} & 0 & 0 \\\\\n0 & \\frac{\\overline{{\\varepsilon}}}{{\\varepsilon}} & 0 \\\\\n0 & 0 & \\frac{1}{\\overline{{\\varepsilon}}}\n\\end{array}\\right)$"
     },
     "metadata": {},
     "output_type": "display_data"
    }
   ],
   "execution_count": 11
  },
  {
   "metadata": {
    "ExecuteTime": {
     "end_time": "2024-08-23T21:23:02.664478Z",
     "start_time": "2024-08-23T21:22:18.679052Z"
    }
   },
   "cell_type": "code",
   "source": [
    "g = map_reduce_mod2(map_rewrite(xp(1, mu) * w * xp(1, mu)))\n",
    "s1 = matrix([[(mu+1)*eps+mu*bar(eps), 0, mu*(mu+1)*(eps+bar(eps))], [0, 1, 0], [1/eps+1/bar(eps), 0, (mu+1)/eps+mu/bar(eps)]])\n",
    "s2 = matrix([[mu*eta+(mu+1)*bar(eta), 0, (mu**2+mu)*(eta+bar(eta))], [0, 1, 0], [eta+bar(eta), 0, (mu+1)*eta+mu*bar(eta)]])\n",
    "\n",
    "print(is_in_su3(s1, char2=True), is_in_su3(s2, char2=True))\n",
    "\n",
    "show(g, s1, s2)\n",
    "\n",
    "s1gs2ginv = map_reduce_mod2(map_simplify_rational(map_rewrite(s1 * g * s2 * g^(-1))))\n",
    "\n",
    "show(s1gs2ginv)"
   ],
   "id": "d8e33c38047bf19a",
   "outputs": [
    {
     "name": "stdout",
     "output_type": "stream",
     "text": [
      "True True\n"
     ]
    },
    {
     "data": {
      "text/html": [
       "<html>\\(\\displaystyle \\left(\\begin{array}{rrr}\n",
       "\\mu & \\mu + 1 & \\mu^{2} \\\\\n",
       "1 & 0 & \\mu + 1 \\\\\n",
       "1 & 1 & \\mu\n",
       "\\end{array}\\right) \\left(\\begin{array}{rrr}\n",
       "{\\varepsilon} {\\left({\\mu} + 1\\right)} + {\\mu} \\overline{{\\varepsilon}} & 0 & {\\left({\\varepsilon} + \\overline{{\\varepsilon}}\\right)} {\\left({\\mu} + 1\\right)} {\\mu} \\\\\n",
       "0 & 1 & 0 \\\\\n",
       "\\frac{1}{{\\varepsilon}} + \\frac{1}{\\overline{{\\varepsilon}}} & 0 & \\frac{{\\mu} + 1}{{\\varepsilon}} + \\frac{{\\mu}}{\\overline{{\\varepsilon}}}\n",
       "\\end{array}\\right) \\left(\\begin{array}{rrr}\n",
       "{\\left({\\mu} + 1\\right)} \\overline{\\frac{\\overline{{\\varepsilon}}}{{\\varepsilon}}} + \\frac{{\\mu} \\overline{{\\varepsilon}}}{{\\varepsilon}} & 0 & {\\left({\\mu}^{2} + {\\mu}\\right)} {\\left(\\frac{\\overline{{\\varepsilon}}}{{\\varepsilon}} + \\overline{\\frac{\\overline{{\\varepsilon}}}{{\\varepsilon}}}\\right)} \\\\\n",
       "0 & 1 & 0 \\\\\n",
       "\\frac{\\overline{{\\varepsilon}}}{{\\varepsilon}} + \\overline{\\frac{\\overline{{\\varepsilon}}}{{\\varepsilon}}} & 0 & {\\mu} \\overline{\\frac{\\overline{{\\varepsilon}}}{{\\varepsilon}}} + \\frac{{\\left({\\mu} + 1\\right)} \\overline{{\\varepsilon}}}{{\\varepsilon}}\n",
       "\\end{array}\\right)\\)</html>"
      ],
      "text/plain": [
       "[    mu mu + 1   mu^2]\n",
       "[     1      0 mu + 1]\n",
       "[     1      1     mu] [  eps*(mu + 1) + mu*bar(eps)                            0 (eps + bar(eps))*(mu + 1)*mu]\n",
       "[                           0                            1                            0]\n",
       "[          1/eps + 1/bar(eps)                            0   (mu + 1)/eps + mu/bar(eps)] [  (mu + 1)*bar(bar(eps)/eps) + mu*bar(eps)/eps                                              0 (mu^2 + mu)*(bar(eps)/eps + bar(bar(eps)/eps))]\n",
       "[                                             0                                              1                                              0]\n",
       "[              bar(eps)/eps + bar(bar(eps)/eps)                                              0   mu*bar(bar(eps)/eps) + (mu + 1)*bar(eps)/eps]"
      ],
      "text/latex": "$\\displaystyle \\left(\\begin{array}{rrr}\n\\mu & \\mu + 1 & \\mu^{2} \\\\\n1 & 0 & \\mu + 1 \\\\\n1 & 1 & \\mu\n\\end{array}\\right) \\left(\\begin{array}{rrr}\n{\\varepsilon} {\\left({\\mu} + 1\\right)} + {\\mu} \\overline{{\\varepsilon}} & 0 & {\\left({\\varepsilon} + \\overline{{\\varepsilon}}\\right)} {\\left({\\mu} + 1\\right)} {\\mu} \\\\\n0 & 1 & 0 \\\\\n\\frac{1}{{\\varepsilon}} + \\frac{1}{\\overline{{\\varepsilon}}} & 0 & \\frac{{\\mu} + 1}{{\\varepsilon}} + \\frac{{\\mu}}{\\overline{{\\varepsilon}}}\n\\end{array}\\right) \\left(\\begin{array}{rrr}\n{\\left({\\mu} + 1\\right)} \\overline{\\frac{\\overline{{\\varepsilon}}}{{\\varepsilon}}} + \\frac{{\\mu} \\overline{{\\varepsilon}}}{{\\varepsilon}} & 0 & {\\left({\\mu}^{2} + {\\mu}\\right)} {\\left(\\frac{\\overline{{\\varepsilon}}}{{\\varepsilon}} + \\overline{\\frac{\\overline{{\\varepsilon}}}{{\\varepsilon}}}\\right)} \\\\\n0 & 1 & 0 \\\\\n\\frac{\\overline{{\\varepsilon}}}{{\\varepsilon}} + \\overline{\\frac{\\overline{{\\varepsilon}}}{{\\varepsilon}}} & 0 & {\\mu} \\overline{\\frac{\\overline{{\\varepsilon}}}{{\\varepsilon}}} + \\frac{{\\left({\\mu} + 1\\right)} \\overline{{\\varepsilon}}}{{\\varepsilon}}\n\\end{array}\\right)$"
     },
     "metadata": {},
     "output_type": "display_data"
    },
    {
     "data": {
      "text/html": [
       "<html>\\(\\displaystyle \\left(\\begin{array}{rrr}\n",
       "{\\varepsilon} & 0 & 0 \\\\\n",
       "0 & \\frac{\\overline{{\\varepsilon}}}{{\\varepsilon}} & 0 \\\\\n",
       "0 & 0 & \\frac{1}{\\overline{{\\varepsilon}}}\n",
       "\\end{array}\\right)\\)</html>"
      ],
      "text/plain": [
       "[         eps            0            0]\n",
       "[           0 bar(eps)/eps            0]\n",
       "[           0            0   1/bar(eps)]"
      ],
      "text/latex": "$\\displaystyle \\left(\\begin{array}{rrr}\n{\\varepsilon} & 0 & 0 \\\\\n0 & \\frac{\\overline{{\\varepsilon}}}{{\\varepsilon}} & 0 \\\\\n0 & 0 & \\frac{1}{\\overline{{\\varepsilon}}}\n\\end{array}\\right)$"
     },
     "metadata": {},
     "output_type": "display_data"
    }
   ],
   "execution_count": 12
  }
 ],
 "metadata": {
  "kernelspec": {
   "display_name": "SageMath 9.8",
   "language": "sage",
   "name": "sagemath"
  },
  "language_info": {
   "codemirror_mode": {
    "name": "ipython",
    "version": 2
   },
   "file_extension": ".py",
   "mimetype": "text/x-python",
   "name": "python",
   "nbconvert_exporter": "python",
   "pygments_lexer": "ipython2",
   "version": "2.7.6"
  }
 },
 "nbformat": 4,
 "nbformat_minor": 5
}
