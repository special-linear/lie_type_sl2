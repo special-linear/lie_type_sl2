{
 "cells": [
  {
   "cell_type": "code",
   "id": "initial_id",
   "metadata": {
    "collapsed": true,
    "ExecuteTime": {
     "end_time": "2024-08-23T21:25:00.492064Z",
     "start_time": "2024-08-23T21:25:00.477780Z"
    }
   },
   "source": [
    "from sage.all import *\n",
    "from sage.symbolic.operators import add_vararg, mul_vararg"
   ],
   "outputs": [],
   "execution_count": 1
  },
  {
   "metadata": {},
   "cell_type": "markdown",
   "source": "$\\tau$ denotes the Tits endomorphism",
   "id": "6744c39465e01d3f"
  },
  {
   "metadata": {
    "ExecuteTime": {
     "end_time": "2024-08-23T21:25:00.515367Z",
     "start_time": "2024-08-23T21:25:00.500290Z"
    }
   },
   "cell_type": "code",
   "source": "tau = sage.symbolic.function_factory.function('tau', nargs=1, print_latex_func=lambda _, arg: '{}^\\\\tau'.format(arg))",
   "id": "e52baae69bf31ed9",
   "outputs": [],
   "execution_count": 2
  },
  {
   "metadata": {
    "ExecuteTime": {
     "end_time": "2024-08-23T21:25:01.006201Z",
     "start_time": "2024-08-23T21:25:01.000295Z"
    }
   },
   "cell_type": "code",
   "source": [
    "a, b = var('a, b')\n",
    "q = var('q')\n",
    "u, v = var('u, v')\n",
    "x, y, z, t = var('x, y, z, t')\n",
    "variables = [a, b, q, u, v, x, y, z, t]"
   ],
   "id": "fe624d93a44adfea",
   "outputs": [],
   "execution_count": 3
  },
  {
   "metadata": {},
   "cell_type": "markdown",
   "source": "The utility functions defined below allow to manipulate the expressions involving $\\tau$, reduction of expressions mod 2 and mapping those over matrices.",
   "id": "2cd350bab78ba009"
  },
  {
   "metadata": {
    "ExecuteTime": {
     "end_time": "2024-08-23T21:25:01.076198Z",
     "start_time": "2024-08-23T21:25:01.046870Z"
    }
   },
   "cell_type": "code",
   "source": [
    "# taken with changes from https://wiki.sagemath.org/symbolics/rewrite\n",
    "\n",
    "def mapexpression(expr, fct, level, addDepth=0, mulDepth=0):\n",
    "     def mapex(expr, depth):               # a very local function\n",
    "        if expr.is_integer():\n",
    "            return expr\n",
    "        opor = expr.operator()\n",
    "        opands = expr.operands()\n",
    "        if (opor is None):\n",
    "            return expr       # a leaf in the expression tree\n",
    "        if (opor == operator.add):           # recursive call thru sum\n",
    "            opands = map(lambda ex: mapex(ex, depth + addDepth), opands)\n",
    "            return sum(opands)\n",
    "        if (opor == operator.mul):           # recursive call thru mul\n",
    "            opands = map(lambda ex: mapex(ex, depth + mulDepth), opands)\n",
    "            return prod(opands)\n",
    "        if (level == -1) or (level[-1] >= depth):  # recursive call over operands\n",
    "            opands = map(lambda ex: mapex(ex, depth + 1), opands)\n",
    "        if level == -1 or depth in level:  # root of the subtree must be changed\n",
    "            return fct(opor, opands)\n",
    "        return opor(*opands)  # opands may or may not be changed by a recursive call\n",
    "     return mapex(expr, 0)\n",
    "\n",
    "\n",
    "# a way to circumvent a conflict between built-in `pow` functions\n",
    "sagepow = (1/x).operator()\n",
    "    \n",
    "\n",
    "def tits_endomorphism_rules(opor, opands):\n",
    "    \"\"\"\n",
    "    tau(a ± b) => tau(a) ± tau(b)\n",
    "    tau(a * b^n) => tau(a) * tau(b)^n\n",
    "    tau(1) => 1\n",
    "    \"\"\"\n",
    "    opands = list(opands)\n",
    "    if opor == tau:\n",
    "        opand = opands[0]\n",
    "        opand_opor = opand.operator()\n",
    "        if opand_opor is not None:\n",
    "            opand_opands = opand.operands()\n",
    "            if opand_opor == add_vararg or opand_opor == mul_vararg:\n",
    "                return opand_opor(*[tau(o) for o in opand_opands])\n",
    "            elif opand_opor == sagepow:\n",
    "                return pow(tau(opand_opands[0]), opand_opands[1])\n",
    "            elif opand_opor == tau:\n",
    "                return opand_opands[0]**2\n",
    "        if opand.is_integer():\n",
    "            return opand\n",
    "    return opor(*opands)\n",
    "\n",
    "\n",
    "def rewrite(expr):\n",
    "    stable = false\n",
    "    while not stable:\n",
    "        new_expr = mapexpression(expr, tits_endomorphism_rules, -1)\n",
    "        stable = (new_expr == expr)\n",
    "        expr = new_expr\n",
    "    return expr\n",
    "\n",
    "\n",
    "def map_rewrite(m):\n",
    "    return m.apply_map(rewrite)\n",
    "\n",
    "\n",
    "def map_simplify_rational(m):\n",
    "    return m.apply_map(lambda e: e.simplify_rational(algorithm='simple'))\n",
    "\n",
    "\n",
    "def reduce_mod2(expr):\n",
    "    tempvars = list(var(['tau_{}'.format(v) for v in variables]))\n",
    "    numer_denom = []\n",
    "    for e in expr.numerator_denominator():\n",
    "        e = e.subs({tau(v): tau_v for v, tau_v in zip(variables, tempvars)})\n",
    "        Rmod2 = PolynomialRing(GF(2), variables + tempvars)\n",
    "        e = Rmod2(e)\n",
    "        e = e.change_ring(ZZ)\n",
    "        e = e.subs(**{str(tau_v): tau(v) for tau_v, v in zip(tempvars, variables)})\n",
    "        numer_denom.append(e)\n",
    "    return numer_denom[0] / numer_denom[1]\n",
    "\n",
    "\n",
    "def map_reduce_mod2(m):\n",
    "    return m.apply_map(lambda e: reduce_mod2(e))"
   ],
   "id": "feb674d64f6b130b",
   "outputs": [],
   "execution_count": 4
  },
  {
   "metadata": {},
   "cell_type": "markdown",
   "source": "Define the basic constructions inside Suzuki group: the non-trivial torus normalizer element $w$, the positive and negative root elements $x_\\pm(a,b)$ and the torus elements $h(\\varepsilon)$.",
   "id": "e84c19e90307ece8"
  },
  {
   "metadata": {
    "ExecuteTime": {
     "end_time": "2024-08-23T21:25:01.155837Z",
     "start_time": "2024-08-23T21:25:01.139004Z"
    }
   },
   "cell_type": "code",
   "source": [
    "w = matrix([[0, 0, 0, 1], [0, 0, 1, 0], [0, 1, 0, 0], [1, 0, 0, 0]])\n",
    "w.set_immutable()\n",
    "\n",
    "\n",
    "def xp(a, b):\n",
    "    mat = matrix(\n",
    "        [\n",
    "            [1, a, b + a * tau(a), a * b + tau(b) + a**2 * tau(a)],\n",
    "            [0, 1, tau(a), b],\n",
    "            [0, 0, 1, a],\n",
    "            [0, 0, 0, 1]\n",
    "        ]\n",
    "    )\n",
    "    # apply rewriting to each entry to avoid entries like `0^\\tau` for specific parameters\n",
    "    return map_rewrite(mat)\n",
    "\n",
    "\n",
    "def xm(a, b):\n",
    "    return w * xp(a, b) * w\n",
    "\n",
    "\n",
    "def h_diag(eps):\n",
    "    mat = diagonal_matrix([eps, tau(eps)/eps, eps/tau(eps), 1/eps])\n",
    "    return map_rewrite(mat)"
   ],
   "id": "65ebd17fb163067b",
   "outputs": [],
   "execution_count": 5
  },
  {
   "metadata": {
    "ExecuteTime": {
     "end_time": "2024-08-23T21:25:01.209152Z",
     "start_time": "2024-08-23T21:25:01.204909Z"
    }
   },
   "cell_type": "code",
   "source": "",
   "id": "d81086f926ae7d",
   "outputs": [],
   "execution_count": null
  },
  {
   "metadata": {
    "ExecuteTime": {
     "end_time": "2024-08-23T21:25:02.873023Z",
     "start_time": "2024-08-23T21:25:01.273671Z"
    }
   },
   "cell_type": "code",
   "source": "show(xp(a, b), xm(a,b), xp(0, x), xm(0, y))",
   "id": "9af1c993dc6c5a3e",
   "outputs": [
    {
     "data": {
      "text/html": [
       "<html>\\(\\displaystyle \\left(\\begin{array}{rrrr}\n",
       "1 & a & a a^\\tau + b & a^{2} a^\\tau + a b + b^\\tau \\\\\n",
       "0 & 1 & a^\\tau & b \\\\\n",
       "0 & 0 & 1 & a \\\\\n",
       "0 & 0 & 0 & 1\n",
       "\\end{array}\\right) \\left(\\begin{array}{rrrr}\n",
       "1 & 0 & 0 & 0 \\\\\n",
       "a & 1 & 0 & 0 \\\\\n",
       "b & a^\\tau & 1 & 0 \\\\\n",
       "a^{2} a^\\tau + a b + b^\\tau & a a^\\tau + b & a & 1\n",
       "\\end{array}\\right) \\left(\\begin{array}{rrrr}\n",
       "1 & 0 & x & x^\\tau \\\\\n",
       "0 & 1 & 0 & x \\\\\n",
       "0 & 0 & 1 & 0 \\\\\n",
       "0 & 0 & 0 & 1\n",
       "\\end{array}\\right) \\left(\\begin{array}{rrrr}\n",
       "1 & 0 & 0 & 0 \\\\\n",
       "0 & 1 & 0 & 0 \\\\\n",
       "y & 0 & 1 & 0 \\\\\n",
       "y^\\tau & y & 0 & 1\n",
       "\\end{array}\\right)\\)</html>"
      ],
      "text/plain": [
       "[                        1                         a              a*tau(a) + b a^2*tau(a) + a*b + tau(b)]\n",
       "[                        0                         1                    tau(a)                         b]\n",
       "[                        0                         0                         1                         a]\n",
       "[                        0                         0                         0                         1] [                        1                         0                         0                         0]\n",
       "[                        a                         1                         0                         0]\n",
       "[                        b                    tau(a)                         1                         0]\n",
       "[a^2*tau(a) + a*b + tau(b)              a*tau(a) + b                         a                         1] [     1      0      x tau(x)]\n",
       "[     0      1      0      x]\n",
       "[     0      0      1      0]\n",
       "[     0      0      0      1] [     1      0      0      0]\n",
       "[     0      1      0      0]\n",
       "[     y      0      1      0]\n",
       "[tau(y)      y      0      1]"
      ],
      "text/latex": "$\\displaystyle \\left(\\begin{array}{rrrr}\n1 & a & a a^\\tau + b & a^{2} a^\\tau + a b + b^\\tau \\\\\n0 & 1 & a^\\tau & b \\\\\n0 & 0 & 1 & a \\\\\n0 & 0 & 0 & 1\n\\end{array}\\right) \\left(\\begin{array}{rrrr}\n1 & 0 & 0 & 0 \\\\\na & 1 & 0 & 0 \\\\\nb & a^\\tau & 1 & 0 \\\\\na^{2} a^\\tau + a b + b^\\tau & a a^\\tau + b & a & 1\n\\end{array}\\right) \\left(\\begin{array}{rrrr}\n1 & 0 & x & x^\\tau \\\\\n0 & 1 & 0 & x \\\\\n0 & 0 & 1 & 0 \\\\\n0 & 0 & 0 & 1\n\\end{array}\\right) \\left(\\begin{array}{rrrr}\n1 & 0 & 0 & 0 \\\\\n0 & 1 & 0 & 0 \\\\\ny & 0 & 1 & 0 \\\\\ny^\\tau & y & 0 & 1\n\\end{array}\\right)$"
     },
     "metadata": {},
     "output_type": "display_data"
    }
   ],
   "execution_count": 6
  },
  {
   "metadata": {},
   "cell_type": "markdown",
   "source": "We now introduce the two products $x_-(0,u) x_+(a,b)$ and $x_+(0,x)x_-(0,y)x_+(0,z)x_-(0,t)$, which will coincide, provided suitable values for the variables $u,x,y,z,t$ and under the assumption $b \\neq 0$.",
   "id": "c99b84cb67399b46"
  },
  {
   "metadata": {
    "ExecuteTime": {
     "end_time": "2024-08-23T21:25:02.974881Z",
     "start_time": "2024-08-23T21:25:02.943878Z"
    }
   },
   "cell_type": "code",
   "source": [
    "g = xm(0, u) * xp(a, b)\n",
    "show(g)"
   ],
   "id": "b87d757da6a9d588",
   "outputs": [
    {
     "data": {
      "text/html": [
       "<html>\\(\\displaystyle \\left(\\begin{array}{rrrr}\n",
       "1 & a & a a^\\tau + b & a^{2} a^\\tau + a b + b^\\tau \\\\\n",
       "0 & 1 & a^\\tau & b \\\\\n",
       "u & a u & {\\left(a a^\\tau + b\\right)} u + 1 & {\\left(a^{2} a^\\tau + a b + b^\\tau\\right)} u + a \\\\\n",
       "u^\\tau & a u^\\tau + u & u a^\\tau + {\\left(a a^\\tau + b\\right)} u^\\tau & b u + {\\left(a^{2} a^\\tau + a b + b^\\tau\\right)} u^\\tau + 1\n",
       "\\end{array}\\right)\\)</html>"
      ],
      "text/plain": [
       "[                                           1                                            a                                 a*tau(a) + b                    a^2*tau(a) + a*b + tau(b)]\n",
       "[                                           0                                            1                                       tau(a)                                            b]\n",
       "[                                           u                                          a*u                         (a*tau(a) + b)*u + 1            (a^2*tau(a) + a*b + tau(b))*u + a]\n",
       "[                                      tau(u)                                 a*tau(u) + u             u*tau(a) + (a*tau(a) + b)*tau(u) b*u + (a^2*tau(a) + a*b + tau(b))*tau(u) + 1]"
      ],
      "text/latex": "$\\displaystyle \\left(\\begin{array}{rrrr}\n1 & a & a a^\\tau + b & a^{2} a^\\tau + a b + b^\\tau \\\\\n0 & 1 & a^\\tau & b \\\\\nu & a u & {\\left(a a^\\tau + b\\right)} u + 1 & {\\left(a^{2} a^\\tau + a b + b^\\tau\\right)} u + a \\\\\nu^\\tau & a u^\\tau + u & u a^\\tau + {\\left(a a^\\tau + b\\right)} u^\\tau & b u + {\\left(a^{2} a^\\tau + a b + b^\\tau\\right)} u^\\tau + 1\n\\end{array}\\right)$"
     },
     "metadata": {},
     "output_type": "display_data"
    }
   ],
   "execution_count": 7
  },
  {
   "metadata": {
    "ExecuteTime": {
     "end_time": "2024-08-23T21:25:03.262210Z",
     "start_time": "2024-08-23T21:25:03.116402Z"
    }
   },
   "cell_type": "code",
   "source": [
    "pqpq = xp(0, x) * xm(0, y) * xp(0, z) * xm(0, t)\n",
    "show(pqpq)"
   ],
   "id": "3dc5d67b146791f1",
   "outputs": [
    {
     "data": {
      "text/html": [
       "<html>\\(\\displaystyle \\left(\\begin{array}{rrrr}\n",
       "{\\left({\\left(x y + x^\\tau y^\\tau + 1\\right)} z + x\\right)} t + x y + {\\left(y z x^\\tau + {\\left(x y + x^\\tau y^\\tau + 1\\right)} z^\\tau + x^\\tau\\right)} t^\\tau + x^\\tau y^\\tau + 1 & {\\left(y z x^\\tau + {\\left(x y + x^\\tau y^\\tau + 1\\right)} z^\\tau + x^\\tau\\right)} t + y x^\\tau & {\\left(x y + x^\\tau y^\\tau + 1\\right)} z + x & y z x^\\tau + {\\left(x y + x^\\tau y^\\tau + 1\\right)} z^\\tau + x^\\tau \\\\\n",
       "t x z y^\\tau + {\\left(x y^\\tau z^\\tau + {\\left(x y + 1\\right)} z + x\\right)} t^\\tau + x y^\\tau & {\\left(x y^\\tau z^\\tau + {\\left(x y + 1\\right)} z + x\\right)} t + x y + 1 & x z y^\\tau & x y^\\tau z^\\tau + {\\left(x y + 1\\right)} z + x \\\\\n",
       "y t^\\tau z^\\tau + {\\left(y z + 1\\right)} t + y & t y z^\\tau & y z + 1 & y z^\\tau \\\\\n",
       "t z y^\\tau + {\\left(y z + y^\\tau z^\\tau + 1\\right)} t^\\tau + y^\\tau & {\\left(y z + y^\\tau z^\\tau + 1\\right)} t + y & z y^\\tau & y z + y^\\tau z^\\tau + 1\n",
       "\\end{array}\\right)\\)</html>"
      ],
      "text/plain": [
       "[((x*y + tau(x)*tau(y) + 1)*z + x)*t + x*y + (y*z*tau(x) + (x*y + tau(x)*tau(y) + 1)*tau(z) + tau(x))*tau(t) + tau(x)*tau(y) + 1                                                           (y*z*tau(x) + (x*y + tau(x)*tau(y) + 1)*tau(z) + tau(x))*t + y*tau(x)                                                                                                 (x*y + tau(x)*tau(y) + 1)*z + x                                                                          y*z*tau(x) + (x*y + tau(x)*tau(y) + 1)*tau(z) + tau(x)]\n",
       "[                                                           t*x*z*tau(y) + (x*tau(y)*tau(z) + (x*y + 1)*z + x)*tau(t) + x*tau(y)                                                                                 (x*tau(y)*tau(z) + (x*y + 1)*z + x)*t + x*y + 1                                                                                                                      x*z*tau(y)                                                                                               x*tau(y)*tau(z) + (x*y + 1)*z + x]\n",
       "[                                                                                              y*tau(t)*tau(z) + (y*z + 1)*t + y                                                                                                                      t*y*tau(z)                                                                                                                         y*z + 1                                                                                                                        y*tau(z)]\n",
       "[                                                                         t*z*tau(y) + (y*z + tau(y)*tau(z) + 1)*tau(t) + tau(y)                                                                                                 (y*z + tau(y)*tau(z) + 1)*t + y                                                                                                                        z*tau(y)                                                                                                         y*z + tau(y)*tau(z) + 1]"
      ],
      "text/latex": "$\\displaystyle \\left(\\begin{array}{rrrr}\n{\\left({\\left(x y + x^\\tau y^\\tau + 1\\right)} z + x\\right)} t + x y + {\\left(y z x^\\tau + {\\left(x y + x^\\tau y^\\tau + 1\\right)} z^\\tau + x^\\tau\\right)} t^\\tau + x^\\tau y^\\tau + 1 & {\\left(y z x^\\tau + {\\left(x y + x^\\tau y^\\tau + 1\\right)} z^\\tau + x^\\tau\\right)} t + y x^\\tau & {\\left(x y + x^\\tau y^\\tau + 1\\right)} z + x & y z x^\\tau + {\\left(x y + x^\\tau y^\\tau + 1\\right)} z^\\tau + x^\\tau \\\\\nt x z y^\\tau + {\\left(x y^\\tau z^\\tau + {\\left(x y + 1\\right)} z + x\\right)} t^\\tau + x y^\\tau & {\\left(x y^\\tau z^\\tau + {\\left(x y + 1\\right)} z + x\\right)} t + x y + 1 & x z y^\\tau & x y^\\tau z^\\tau + {\\left(x y + 1\\right)} z + x \\\\\ny t^\\tau z^\\tau + {\\left(y z + 1\\right)} t + y & t y z^\\tau & y z + 1 & y z^\\tau \\\\\nt z y^\\tau + {\\left(y z + y^\\tau z^\\tau + 1\\right)} t^\\tau + y^\\tau & {\\left(y z + y^\\tau z^\\tau + 1\\right)} t + y & z y^\\tau & y z + y^\\tau z^\\tau + 1\n\\end{array}\\right)$"
     },
     "metadata": {},
     "output_type": "display_data"
    }
   ],
   "execution_count": 8
  },
  {
   "metadata": {
    "ExecuteTime": {
     "end_time": "2024-08-23T21:25:03.390775Z",
     "start_time": "2024-08-23T21:25:03.351562Z"
    }
   },
   "cell_type": "code",
   "source": [
    "values = {\n",
    "    t: u * a / (u * g[0, 3] + a),\n",
    "    y: u * g[0, 2] / z,\n",
    "    z: (g[0, 3] * tau(u) + u * b + 1) * x + b,\n",
    "    x: tau(a) / (tau(u) * g[0,2] + u * tau(a)),\n",
    "    u: a**2 * tau(a) / (b * tau(b)),\n",
    "}\n",
    "\n",
    "for vrb, vrb_sub in values.items():\n",
    "    show(vrb, ' = ', vrb_sub)"
   ],
   "id": "107925b3be9b2b0c",
   "outputs": [
    {
     "data": {
      "text/html": [
       "<html>\\(\\displaystyle t \\verb| |\\verb|=| \\frac{a u}{{\\left(a^{2} a^\\tau + a b + b^\\tau\\right)} u + a}\\)</html>"
      ],
      "text/plain": [
       "t ' = ' a*u/((a^2*tau(a) + a*b + tau(b))*u + a)"
      ],
      "text/latex": "$\\displaystyle t \\verb| |\\verb|=| \\frac{a u}{{\\left(a^{2} a^\\tau + a b + b^\\tau\\right)} u + a}$"
     },
     "metadata": {},
     "output_type": "display_data"
    },
    {
     "data": {
      "text/html": [
       "<html>\\(\\displaystyle y \\verb| |\\verb|=| \\frac{{\\left(a a^\\tau + b\\right)} u}{z}\\)</html>"
      ],
      "text/plain": [
       "y ' = ' (a*tau(a) + b)*u/z"
      ],
      "text/latex": "$\\displaystyle y \\verb| |\\verb|=| \\frac{{\\left(a a^\\tau + b\\right)} u}{z}$"
     },
     "metadata": {},
     "output_type": "display_data"
    },
    {
     "data": {
      "text/html": [
       "<html>\\(\\displaystyle z \\verb| |\\verb|=| {\\left(b u + {\\left(a^{2} a^\\tau + a b + b^\\tau\\right)} u^\\tau + 1\\right)} x + b\\)</html>"
      ],
      "text/plain": [
       "z ' = ' (b*u + (a^2*tau(a) + a*b + tau(b))*tau(u) + 1)*x + b"
      ],
      "text/latex": "$\\displaystyle z \\verb| |\\verb|=| {\\left(b u + {\\left(a^{2} a^\\tau + a b + b^\\tau\\right)} u^\\tau + 1\\right)} x + b$"
     },
     "metadata": {},
     "output_type": "display_data"
    },
    {
     "data": {
      "text/html": [
       "<html>\\(\\displaystyle x \\verb| |\\verb|=| \\frac{a^\\tau}{u a^\\tau + {\\left(a a^\\tau + b\\right)} u^\\tau}\\)</html>"
      ],
      "text/plain": [
       "x ' = ' tau(a)/(u*tau(a) + (a*tau(a) + b)*tau(u))"
      ],
      "text/latex": "$\\displaystyle x \\verb| |\\verb|=| \\frac{a^\\tau}{u a^\\tau + {\\left(a a^\\tau + b\\right)} u^\\tau}$"
     },
     "metadata": {},
     "output_type": "display_data"
    },
    {
     "data": {
      "text/html": [
       "<html>\\(\\displaystyle u \\verb| |\\verb|=| \\frac{a^{2} a^\\tau}{b b^\\tau}\\)</html>"
      ],
      "text/plain": [
       "u ' = ' a^2*tau(a)/(b*tau(b))"
      ],
      "text/latex": "$\\displaystyle u \\verb| |\\verb|=| \\frac{a^{2} a^\\tau}{b b^\\tau}$"
     },
     "metadata": {},
     "output_type": "display_data"
    }
   ],
   "execution_count": 9
  },
  {
   "metadata": {},
   "cell_type": "markdown",
   "source": "The values for the variables can be expanded in terms of $a$ and $b$, giving large and complicated expressions, suitable for machine verification.",
   "id": "4f2ed69572817190"
  },
  {
   "metadata": {
    "ExecuteTime": {
     "end_time": "2024-08-23T21:25:09.717291Z",
     "start_time": "2024-08-23T21:25:03.486893Z"
    }
   },
   "cell_type": "code",
   "source": [
    "values_expanded = copy(values)\n",
    "\n",
    "vrb_list = list(values)\n",
    "\n",
    "for i, vrb in reversed(list(enumerate(vrb_list))):\n",
    "    vrb_sub = values_expanded[vrb]\n",
    "    for c in vrb_list[:i]:\n",
    "        c_sub = values_expanded[c]\n",
    "        c_sub_expanded = c_sub({vrb: vrb_sub})\n",
    "        c_sub_expanded = c_sub_expanded.simplify_rational()\n",
    "        c_sub_expanded = rewrite(c_sub_expanded)\n",
    "        values_expanded[c] = c_sub_expanded\n",
    "\n",
    "for vrb in vrb_list:\n",
    "    vrb_sub = values_expanded[vrb]\n",
    "    vrb_sub = reduce_mod2(vrb_sub)\n",
    "    print(vrb, '=', vrb_sub)\n",
    "    values_expanded[vrb] = vrb_sub"
   ],
   "id": "6d542297343d118b",
   "outputs": [
    {
     "name": "stdout",
     "output_type": "stream",
     "text": [
      "t = a^2*tau(a)/(a^3*tau(a)^2 + a^2*b*tau(a) + a*tau(a)*tau(b) + b*tau(b))\n",
      "y = (a^6*tau(a)^4 + a^5*b*tau(a)^3)/(a^4*b*tau(a)^3*tau(b) + a^2*b^3*tau(a)*tau(b) + a^2*b*tau(a)^2*tau(b)^2 + b^3*tau(b)^2)\n",
      "z = (a^4*tau(a)^3 + a^2*b^2*tau(a) + a^2*tau(a)^2*tau(b) + b^2*tau(b))/(a^3*tau(a)^2)\n",
      "x = b^2*tau(b)/(a^3*tau(a)^2)\n",
      "u = a^2*tau(a)/(b*tau(b))\n"
     ]
    }
   ],
   "execution_count": 10
  },
  {
   "metadata": {
    "ExecuteTime": {
     "end_time": "2024-08-23T21:25:12.821516Z",
     "start_time": "2024-08-23T21:25:09.824840Z"
    }
   },
   "cell_type": "code",
   "source": "g_eval = map_rewrite(g.subs(values_expanded))",
   "id": "15baa1a8389914fd",
   "outputs": [],
   "execution_count": 11
  },
  {
   "metadata": {
    "ExecuteTime": {
     "end_time": "2024-08-23T21:25:24.614427Z",
     "start_time": "2024-08-23T21:25:12.853034Z"
    }
   },
   "cell_type": "code",
   "source": [
    "pqpq_factors = [\n",
    "    xp(0, values_expanded[x]),\n",
    "    xm(0, values_expanded[y]),\n",
    "    xp(0, values_expanded[z]),\n",
    "    xm(0, values_expanded[t])\n",
    "]\n",
    "pqpq_eval = prod(pqpq_factors)"
   ],
   "id": "3a7ced91a568170",
   "outputs": [],
   "execution_count": 12
  },
  {
   "metadata": {},
   "cell_type": "markdown",
   "source": "The difference between these two products, once reduced mod 2, becomes 0, proving the decomposition.",
   "id": "b34f2080d1aa1f61"
  },
  {
   "metadata": {
    "ExecuteTime": {
     "end_time": "2024-08-23T21:25:24.862072Z",
     "start_time": "2024-08-23T21:25:24.659168Z"
    }
   },
   "cell_type": "code",
   "source": "map_reduce_mod2(pqpq_eval - g_eval)",
   "id": "61227a8b9a26252a",
   "outputs": [
    {
     "data": {
      "text/plain": [
       "[0 0 0 0]\n",
       "[0 0 0 0]\n",
       "[0 0 0 0]\n",
       "[0 0 0 0]"
      ]
     },
     "execution_count": 13,
     "metadata": {},
     "output_type": "execute_result"
    }
   ],
   "execution_count": 13
  }
 ],
 "metadata": {
  "kernelspec": {
   "display_name": "SageMath 9.8",
   "language": "sage",
   "name": "sagemath"
  },
  "language_info": {
   "codemirror_mode": {
    "name": "ipython",
    "version": 2
   },
   "file_extension": ".py",
   "mimetype": "text/x-python",
   "name": "python",
   "nbconvert_exporter": "python",
   "pygments_lexer": "ipython2",
   "version": "2.7.6"
  }
 },
 "nbformat": 4,
 "nbformat_minor": 5
}
